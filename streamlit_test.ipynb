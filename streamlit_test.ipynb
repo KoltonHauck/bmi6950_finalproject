{
 "cells": [
  {
   "cell_type": "code",
   "execution_count": 3,
   "metadata": {},
   "outputs": [
    {
     "name": "stdout",
     "output_type": "stream",
     "text": [
      "Defaulting to user installation because normal site-packages is not writeable\n",
      "Collecting streamlit\n",
      "  Downloading streamlit-1.31.0-py2.py3-none-any.whl (8.4 MB)\n",
      "Collecting rich<14,>=10.14.0\n",
      "  Downloading rich-13.7.0-py3-none-any.whl (240 kB)\n",
      "Collecting validators<1,>=0.2\n",
      "  Downloading validators-0.22.0-py3-none-any.whl (26 kB)\n",
      "Requirement already satisfied: importlib-metadata<8,>=1.4 in c:\\users\\kolton.hauck\\appdata\\roaming\\python\\python39\\site-packages (from streamlit) (7.0.1)\n",
      "Collecting altair<6,>=4.0\n",
      "  Downloading altair-5.2.0-py3-none-any.whl (996 kB)\n",
      "Collecting cachetools<6,>=4.0\n",
      "  Downloading cachetools-5.3.2-py3-none-any.whl (9.3 kB)\n",
      "Requirement already satisfied: tornado<7,>=6.0.3 in c:\\users\\kolton.hauck\\appdata\\roaming\\python\\python39\\site-packages (from streamlit) (6.4)\n",
      "Requirement already satisfied: python-dateutil<3,>=2.7.3 in c:\\users\\kolton.hauck\\appdata\\roaming\\python\\python39\\site-packages (from streamlit) (2.8.2)\n",
      "Collecting watchdog>=2.1.5\n",
      "  Downloading watchdog-4.0.0-py3-none-win_amd64.whl (82 kB)\n",
      "Requirement already satisfied: requests<3,>=2.27 in c:\\users\\kolton.hauck\\appdata\\roaming\\python\\python39\\site-packages (from streamlit) (2.31.0)\n",
      "Requirement already satisfied: click<9,>=7.0 in c:\\users\\kolton.hauck\\appdata\\roaming\\python\\python39\\site-packages (from streamlit) (8.1.7)\n",
      "Requirement already satisfied: pillow<11,>=7.1.0 in c:\\users\\kolton.hauck\\appdata\\roaming\\python\\python39\\site-packages (from streamlit) (10.2.0)\n",
      "Requirement already satisfied: numpy<2,>=1.19.3 in c:\\users\\kolton.hauck\\appdata\\roaming\\python\\python39\\site-packages (from streamlit) (1.26.3)\n",
      "Requirement already satisfied: packaging<24,>=16.8 in c:\\users\\kolton.hauck\\appdata\\roaming\\python\\python39\\site-packages (from streamlit) (23.2)\n",
      "Collecting tzlocal<6,>=1.1\n",
      "  Downloading tzlocal-5.2-py3-none-any.whl (17 kB)\n",
      "Requirement already satisfied: tenacity<9,>=8.1.0 in c:\\users\\kolton.hauck\\appdata\\roaming\\python\\python39\\site-packages (from streamlit) (8.2.3)\n",
      "Requirement already satisfied: pyarrow>=7.0 in c:\\users\\kolton.hauck\\appdata\\roaming\\python\\python39\\site-packages (from streamlit) (15.0.0)\n",
      "Collecting pydeck<1,>=0.8.0b4\n",
      "  Downloading pydeck-0.8.1b0-py2.py3-none-any.whl (4.8 MB)\n",
      "Collecting protobuf<5,>=3.20\n",
      "  Downloading protobuf-4.25.2-cp39-cp39-win_amd64.whl (413 kB)\n",
      "Collecting gitpython!=3.1.19,<4,>=3.0.7\n",
      "  Downloading GitPython-3.1.41-py3-none-any.whl (196 kB)\n",
      "Requirement already satisfied: pandas<3,>=1.3.0 in c:\\users\\kolton.hauck\\appdata\\roaming\\python\\python39\\site-packages (from streamlit) (2.1.4)\n",
      "Collecting blinker<2,>=1.0.0\n",
      "  Downloading blinker-1.7.0-py3-none-any.whl (13 kB)\n",
      "Collecting toml<2,>=0.10.1\n",
      "  Downloading toml-0.10.2-py2.py3-none-any.whl (16 kB)\n",
      "Requirement already satisfied: typing-extensions<5,>=4.3.0 in c:\\users\\kolton.hauck\\appdata\\roaming\\python\\python39\\site-packages (from streamlit) (4.9.0)\n",
      "Requirement already satisfied: jsonschema>=3.0 in c:\\users\\kolton.hauck\\appdata\\roaming\\python\\python39\\site-packages (from altair<6,>=4.0->streamlit) (4.21.0)\n",
      "Requirement already satisfied: jinja2 in c:\\users\\kolton.hauck\\appdata\\roaming\\python\\python39\\site-packages (from altair<6,>=4.0->streamlit) (3.1.3)\n",
      "Collecting toolz\n",
      "  Downloading toolz-0.12.1-py3-none-any.whl (56 kB)\n",
      "Requirement already satisfied: colorama in c:\\users\\kolton.hauck\\appdata\\roaming\\python\\python39\\site-packages (from click<9,>=7.0->streamlit) (0.4.6)\n",
      "Collecting gitdb<5,>=4.0.1\n",
      "  Downloading gitdb-4.0.11-py3-none-any.whl (62 kB)\n",
      "Collecting smmap<6,>=3.0.1\n",
      "  Downloading smmap-5.0.1-py3-none-any.whl (24 kB)\n",
      "Requirement already satisfied: zipp>=0.5 in c:\\users\\kolton.hauck\\appdata\\roaming\\python\\python39\\site-packages (from importlib-metadata<8,>=1.4->streamlit) (3.17.0)\n",
      "Requirement already satisfied: attrs>=22.2.0 in c:\\users\\kolton.hauck\\appdata\\roaming\\python\\python39\\site-packages (from jsonschema>=3.0->altair<6,>=4.0->streamlit) (23.2.0)\n",
      "Requirement already satisfied: rpds-py>=0.7.1 in c:\\users\\kolton.hauck\\appdata\\roaming\\python\\python39\\site-packages (from jsonschema>=3.0->altair<6,>=4.0->streamlit) (0.17.1)\n",
      "Requirement already satisfied: referencing>=0.28.4 in c:\\users\\kolton.hauck\\appdata\\roaming\\python\\python39\\site-packages (from jsonschema>=3.0->altair<6,>=4.0->streamlit) (0.32.1)\n",
      "Requirement already satisfied: jsonschema-specifications>=2023.03.6 in c:\\users\\kolton.hauck\\appdata\\roaming\\python\\python39\\site-packages (from jsonschema>=3.0->altair<6,>=4.0->streamlit) (2023.12.1)\n",
      "Requirement already satisfied: tzdata>=2022.1 in c:\\users\\kolton.hauck\\appdata\\roaming\\python\\python39\\site-packages (from pandas<3,>=1.3.0->streamlit) (2023.4)\n",
      "Requirement already satisfied: pytz>=2020.1 in c:\\users\\kolton.hauck\\appdata\\roaming\\python\\python39\\site-packages (from pandas<3,>=1.3.0->streamlit) (2023.3.post1)\n",
      "Requirement already satisfied: MarkupSafe>=2.0 in c:\\users\\kolton.hauck\\appdata\\roaming\\python\\python39\\site-packages (from jinja2->altair<6,>=4.0->streamlit) (2.1.3)\n",
      "Requirement already satisfied: six>=1.5 in c:\\users\\kolton.hauck\\appdata\\roaming\\python\\python39\\site-packages (from python-dateutil<3,>=2.7.3->streamlit) (1.16.0)\n",
      "Requirement already satisfied: charset-normalizer<4,>=2 in c:\\users\\kolton.hauck\\appdata\\roaming\\python\\python39\\site-packages (from requests<3,>=2.27->streamlit) (3.3.2)\n",
      "Requirement already satisfied: urllib3<3,>=1.21.1 in c:\\users\\kolton.hauck\\appdata\\roaming\\python\\python39\\site-packages (from requests<3,>=2.27->streamlit) (1.26.18)\n",
      "Requirement already satisfied: idna<4,>=2.5 in c:\\users\\kolton.hauck\\appdata\\roaming\\python\\python39\\site-packages (from requests<3,>=2.27->streamlit) (3.6)\n",
      "Requirement already satisfied: certifi>=2017.4.17 in c:\\users\\kolton.hauck\\appdata\\roaming\\python\\python39\\site-packages (from requests<3,>=2.27->streamlit) (2023.11.17)\n",
      "Collecting markdown-it-py>=2.2.0\n",
      "  Downloading markdown_it_py-3.0.0-py3-none-any.whl (87 kB)\n",
      "Requirement already satisfied: pygments<3.0.0,>=2.13.0 in c:\\users\\kolton.hauck\\appdata\\roaming\\python\\python39\\site-packages (from rich<14,>=10.14.0->streamlit) (2.17.2)\n",
      "Collecting mdurl~=0.1\n",
      "  Downloading mdurl-0.1.2-py3-none-any.whl (10.0 kB)\n",
      "Installing collected packages: smmap, mdurl, toolz, markdown-it-py, gitdb, watchdog, validators, tzlocal, toml, rich, pydeck, protobuf, gitpython, cachetools, blinker, altair, streamlit\n",
      "Successfully installed altair-5.2.0 blinker-1.7.0 cachetools-5.3.2 gitdb-4.0.11 gitpython-3.1.41 markdown-it-py-3.0.0 mdurl-0.1.2 protobuf-4.25.2 pydeck-0.8.1b0 rich-13.7.0 smmap-5.0.1 streamlit-1.31.0 toml-0.10.2 toolz-0.12.1 tzlocal-5.2 validators-0.22.0 watchdog-4.0.0\n"
     ]
    },
    {
     "name": "stderr",
     "output_type": "stream",
     "text": [
      "WARNING: You are using pip version 21.1.1; however, version 23.3.2 is available.\n",
      "You should consider upgrading via the 'c:\\program files\\python39\\python.exe -m pip install --upgrade pip' command.\n"
     ]
    }
   ],
   "source": [
    "!pip install streamlit"
   ]
  },
  {
   "cell_type": "code",
   "execution_count": 4,
   "metadata": {},
   "outputs": [
    {
     "name": "stderr",
     "output_type": "stream",
     "text": [
      "2024-02-07 12:11:18.637 \n",
      "  \u001b[33m\u001b[1mWarning:\u001b[0m to view this Streamlit app on a browser, run it with the following\n",
      "  command:\n",
      "\n",
      "    streamlit run C:\\Users\\kolton.hauck\\AppData\\Roaming\\Python\\Python39\\site-packages\\ipykernel_launcher.py [ARGUMENTS]\n"
     ]
    }
   ],
   "source": [
    "import streamlit as st\n",
    "from langchain.llms import OpenAI\n",
    "\n",
    "st.title('🦜🔗 Quickstart App')\n",
    "\n",
    "openai_api_key = st.sidebar.text_input('OpenAI API Key', type='password')\n",
    "\n",
    "def generate_response(input_text):\n",
    "    llm = OpenAI(temperature=0.7, openai_api_key=openai_api_key)\n",
    "    st.info(llm(input_text))\n",
    "\n",
    "with st.form('my_form'):\n",
    "    text = st.text_area('Enter text:', 'What are the three key pieces of advice for learning how to code?')\n",
    "    submitted = st.form_submit_button('Submit')\n",
    "    if not openai_api_key.startswith('sk-'):\n",
    "        st.warning('Please enter your OpenAI API key!', icon='⚠')\n",
    "    if submitted and openai_api_key.startswith('sk-'):\n",
    "        generate_response(text)"
   ]
  }
 ],
 "metadata": {
  "kernelspec": {
   "display_name": "Python 3",
   "language": "python",
   "name": "python3"
  },
  "language_info": {
   "codemirror_mode": {
    "name": "ipython",
    "version": 3
   },
   "file_extension": ".py",
   "mimetype": "text/x-python",
   "name": "python",
   "nbconvert_exporter": "python",
   "pygments_lexer": "ipython3",
   "version": "3.9.5"
  }
 },
 "nbformat": 4,
 "nbformat_minor": 2
}
